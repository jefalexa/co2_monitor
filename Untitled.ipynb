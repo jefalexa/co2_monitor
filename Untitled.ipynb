{
 "cells": [
  {
   "cell_type": "code",
   "execution_count": 1,
   "metadata": {},
   "outputs": [],
   "source": [
    "import json\n",
    "import time\n",
    "import datetime\n",
    "import random\n",
    "from twilio.rest import Client\n",
    "\n",
    "\n",
    "phone_num_from = '12052933447'\n",
    "phone_num_to = '13038182403'\n",
    "msg_empty_sent = False\n",
    "msg_low_sent = False\n",
    "\n",
    "key_file = 'twilio_keys.json'\n",
    "\n",
    "with open(key_file, 'r') as file:\n",
    "    key_file = json.load(file)\n",
    "    twilio_sid = key_file['twilio_sid']\n",
    "    twilio_auth_token = key_file['twilio_auth_token']\n",
    "\n",
    "client = Client(twilio_sid, twilio_auth_token)\n"
   ]
  },
  {
   "cell_type": "code",
   "execution_count": 4,
   "metadata": {},
   "outputs": [],
   "source": [
    "def send_empty_msg(weight_avg):\n",
    "    global msg_empty_sent\n",
    "    global msg_low_sent\n",
    "    dt = datetime.datetime.now().strftime(\"%Y-%m-%d_%H%M\")\n",
    "    if ((weight_avg <= 0.01) & (msg_empty_sent==False)):\n",
    "        msg_body = f'{dt} - CO2 is empty!'\n",
    "        message = client.messages.create(body=msg_body,from_=phone_num_from,to=phone_num_to)\n",
    "        sleep_count = 0\n",
    "        while ((message.fetch().status != 'delivered') & (sleep_count < 30)):\n",
    "            time.sleep(3)\n",
    "            sleep_count += 3\n",
    "        if message.fetch().status == 'delivered':\n",
    "            msg_empty_sent = True    \n",
    "    elif ((weight_avg < 0.5) & (msg_low_sent==False) & (msg_empty_sent==False)):\n",
    "        msg_body = f'{dt} - CO2 is getting low!'\n",
    "        message = client.messages.create(body=msg_body,from_=phone_num_from,to=phone_num_to)\n",
    "        sleep_count = 0\n",
    "        while ((message.fetch().status != 'delivered') & (sleep_count < 30)):\n",
    "            time.sleep(3)\n",
    "            sleep_count += 3\n",
    "        if message.fetch().status == 'delivered':\n",
    "            msg_low_sent = True\n",
    "    elif weight_avg > 1:\n",
    "        msg_empty_sent = False\n",
    "        msg_low_sent = False\n",
    "    return\n",
    "\n",
    "\n",
    "def send_change_msg(weight_change):\n",
    "    dt = datetime.datetime.now().strftime(\"%Y-%m-%d_%H%M\")\n",
    "    ts = datetime.datetime.now().timestamp()\n",
    "    weight_change_display = round(weight_change, 2)\n",
    "    if weight_change >= 1:\n",
    "        #logging.log(msg=\"{{'Timestamp':{}, WARNING Very High Weight Change '10 Minute Change':{}}}\".format(ts, weight_change_display), level=logging.critical)\n",
    "        msg_body = f'{dt} - WARNING Very High Weight Change - 10 Minute Change:{weight_change_display}'\n",
    "        message = client.messages.create(body=msg_body,from_=phone_num_from,to=phone_num_to)\n",
    "    elif weight_change >= 0.2:\n",
    "        #logging.log(msg=\"{{'Timestamp':{}, WARNING High Weight Change '10 Minute Change':{}}}\".format(ts, weight_change_display), level=logging.error)\n",
    "        msg_body = f'{dt} - WARNING High Weight Change - 10 Minute Change:{weight_change_display}'\n",
    "        message = client.messages.create(body=msg_body,from_=phone_num_from,to=phone_num_to)\n",
    "    elif weight_change >= 0.1:\n",
    "        #logging.log(msg=\"{{'Timestamp':{}, WARNING Above Average Weight Change '10 Minute Change':{}}}\".format(ts, weight_change_display), level=logging.warning)\n",
    "        msg_body = f'{dt} - WARNING Above Average Weight Change - 10 Minute Change:{weight_change_display}'\n",
    "        message = client.messages.create(body=msg_body,from_=phone_num_from,to=phone_num_to)\n",
    "    return\n"
   ]
  },
  {
   "cell_type": "code",
   "execution_count": 24,
   "metadata": {},
   "outputs": [],
   "source": []
  },
  {
   "cell_type": "code",
   "execution_count": 27,
   "metadata": {},
   "outputs": [],
   "source": [
    "send_change_msg(0.2)"
   ]
  },
  {
   "cell_type": "code",
   "execution_count": 15,
   "metadata": {},
   "outputs": [
    {
     "data": {
      "text/plain": [
       "0.45"
      ]
     },
     "execution_count": 15,
     "metadata": {},
     "output_type": "execute_result"
    }
   ],
   "source": []
  },
  {
   "cell_type": "code",
   "execution_count": 16,
   "metadata": {
    "tags": []
   },
   "outputs": [
    {
     "name": "stdout",
     "output_type": "stream",
     "text": [
      "1\n",
      "0.01\n",
      "1.2\n",
      "5\n",
      "0.011\n",
      "1\n",
      "1.2\n",
      "-0.1\n",
      "5\n",
      "5\n",
      "0.011\n",
      "5\n",
      "0.01\n",
      "5\n",
      "-0.1\n"
     ]
    },
    {
     "ename": "KeyboardInterrupt",
     "evalue": "",
     "output_type": "error",
     "traceback": [
      "\u001b[0;31m---------------------------------------------------------------------------\u001b[0m",
      "\u001b[0;31mKeyboardInterrupt\u001b[0m                         Traceback (most recent call last)",
      "Input \u001b[0;32mIn [16]\u001b[0m, in \u001b[0;36m<cell line: 8>\u001b[0;34m()\u001b[0m\n\u001b[1;32m      8\u001b[0m weight_avg \u001b[38;5;241m=\u001b[39m weights[random\u001b[38;5;241m.\u001b[39mrandint(\u001b[38;5;241m0\u001b[39m, \u001b[38;5;28mlen\u001b[39m(weights)\u001b[38;5;241m-\u001b[39m\u001b[38;5;241m1\u001b[39m)]\n\u001b[1;32m      9\u001b[0m \u001b[38;5;28mprint\u001b[39m(weight_avg)\n\u001b[0;32m---> 10\u001b[0m \u001b[43msend_message\u001b[49m\u001b[43m(\u001b[49m\u001b[43mweight_avg\u001b[49m\u001b[43m)\u001b[49m\n\u001b[1;32m     11\u001b[0m time\u001b[38;5;241m.\u001b[39msleep(\u001b[38;5;241m3\u001b[39m)\n",
      "Input \u001b[0;32mIn [4]\u001b[0m, in \u001b[0;36msend_message\u001b[0;34m(weight_avg)\u001b[0m\n\u001b[1;32m      8\u001b[0m sleep_count \u001b[38;5;241m=\u001b[39m \u001b[38;5;241m0\u001b[39m\n\u001b[1;32m      9\u001b[0m \u001b[38;5;28;01mwhile\u001b[39;00m ((message\u001b[38;5;241m.\u001b[39mfetch()\u001b[38;5;241m.\u001b[39mstatus \u001b[38;5;241m!=\u001b[39m \u001b[38;5;124m'\u001b[39m\u001b[38;5;124mdelivered\u001b[39m\u001b[38;5;124m'\u001b[39m) \u001b[38;5;241m&\u001b[39m (sleep_count \u001b[38;5;241m<\u001b[39m \u001b[38;5;241m30\u001b[39m)):\n\u001b[0;32m---> 10\u001b[0m     \u001b[43mtime\u001b[49m\u001b[38;5;241;43m.\u001b[39;49m\u001b[43msleep\u001b[49m\u001b[43m(\u001b[49m\u001b[38;5;241;43m3\u001b[39;49m\u001b[43m)\u001b[49m\n\u001b[1;32m     11\u001b[0m     sleep_count \u001b[38;5;241m+\u001b[39m\u001b[38;5;241m=\u001b[39m \u001b[38;5;241m3\u001b[39m\n\u001b[1;32m     12\u001b[0m \u001b[38;5;28;01mif\u001b[39;00m message\u001b[38;5;241m.\u001b[39mfetch()\u001b[38;5;241m.\u001b[39mstatus \u001b[38;5;241m==\u001b[39m \u001b[38;5;124m'\u001b[39m\u001b[38;5;124mdelivered\u001b[39m\u001b[38;5;124m'\u001b[39m:\n",
      "\u001b[0;31mKeyboardInterrupt\u001b[0m: "
     ]
    }
   ],
   "source": [
    "#msg_empty_sent = False\n",
    "#msg_low_sent = False\n",
    "\n",
    "\n",
    "weights = [0.5, 0.45, 0.01, 0.011, 0.009, -0.1, 1, 1.2, 5]\n",
    "\n",
    "while True:\n",
    "    weight_avg = weights[random.randint(0, len(weights)-1)]\n",
    "    print(weight_avg)\n",
    "    send_message(weight_avg)\n",
    "    time.sleep(3)\n"
   ]
  },
  {
   "cell_type": "code",
   "execution_count": null,
   "metadata": {},
   "outputs": [],
   "source": []
  }
 ],
 "metadata": {
  "kernelspec": {
   "display_name": "Python 3 (ipykernel)",
   "language": "python",
   "name": "python3"
  },
  "language_info": {
   "codemirror_mode": {
    "name": "ipython",
    "version": 3
   },
   "file_extension": ".py",
   "mimetype": "text/x-python",
   "name": "python",
   "nbconvert_exporter": "python",
   "pygments_lexer": "ipython3",
   "version": "3.9.5"
  }
 },
 "nbformat": 4,
 "nbformat_minor": 4
}
