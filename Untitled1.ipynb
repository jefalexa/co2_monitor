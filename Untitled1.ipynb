{
 "cells": [
  {
   "cell_type": "code",
   "execution_count": 4,
   "id": "44e5a4d3-f002-4fb6-aef4-53227a2fbc0c",
   "metadata": {},
   "outputs": [],
   "source": [
    "import time\n",
    "#import serial\n",
    "import datetime\n",
    "import logging\n",
    "import google.cloud.logging\n",
    "import sys\n",
    "from twilio.rest import Client\n",
    "import json\n",
    "\n",
    "# Imports the Google Cloud client library\n",
    "\n",
    "# ------------------\n",
    "# Setup Logging\n",
    "# ------------------\n",
    "\n",
    "file_name = (\"CO2 Monitor\")\n",
    "\n",
    "logging.basicConfig(format=\"%(filename)s:%(lineno)s - %(funcName)s() %(message)s\")\n",
    "\n",
    "# ------------------\n",
    "# Setup Stackdriver\n",
    "# ------------------\n",
    "\n",
    "auth_file = 'homelab-266121-2389cbbb58c3.json'\n",
    "\n",
    "# Instantiates a client\n",
    "client_google = google.cloud.logging.Client.from_service_account_json(auth_file)\n",
    "\n",
    "# Connects the logger to the root logging handler; by default this captures\n",
    "# all logs at INFO level and higher\n",
    "client_google.setup_logging()\n",
    "\n"
   ]
  },
  {
   "cell_type": "code",
   "execution_count": 5,
   "id": "9cbb8bc9-55e2-4292-a5db-a077b24c7f33",
   "metadata": {},
   "outputs": [
    {
     "name": "stderr",
     "output_type": "stream",
     "text": [
      "878621027.py:1 - <cell line: 1>() Test 1\n"
     ]
    }
   ],
   "source": [
    "logging.log(msg=\"Test 1\", level=logging.INFO)"
   ]
  },
  {
   "cell_type": "code",
   "execution_count": null,
   "id": "3f1c6d7d-58fb-4e10-8c54-570d677b59de",
   "metadata": {},
   "outputs": [],
   "source": []
  }
 ],
 "metadata": {
  "kernelspec": {
   "display_name": "Python 3 (ipykernel)",
   "language": "python",
   "name": "python3"
  },
  "language_info": {
   "codemirror_mode": {
    "name": "ipython",
    "version": 3
   },
   "file_extension": ".py",
   "mimetype": "text/x-python",
   "name": "python",
   "nbconvert_exporter": "python",
   "pygments_lexer": "ipython3",
   "version": "3.9.5"
  }
 },
 "nbformat": 4,
 "nbformat_minor": 5
}
