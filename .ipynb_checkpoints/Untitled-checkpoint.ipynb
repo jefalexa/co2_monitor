{
 "cells": [
  {
   "cell_type": "code",
   "execution_count": 20,
   "metadata": {},
   "outputs": [],
   "source": [
    "import json\n",
    "import time\n",
    "from twilio.rest import Client\n",
    "\n",
    "\n",
    "phone_num_from = '12052933447'\n",
    "phone_num_to = '13038182403'\n",
    "msg_empty_sent = False\n",
    "msg_low_sent = False\n",
    "\n",
    "key_file = 'twilio_keys.json'\n",
    "\n",
    "with open(key_file, 'r') as file:\n",
    "    key_file = json.load(file)\n",
    "    twilio_sid = key_file['twilio_sid']\n",
    "    twilio_auth_token = key_file['twilio_auth_token']\n",
    "\n",
    "client = Client(twilio_sid, twilio_auth_token)\n"
   ]
  },
  {
   "cell_type": "code",
   "execution_count": 10,
   "metadata": {},
   "outputs": [],
   "source": [
    "msg_body = 'test'\n",
    "message = client.messages.create(body=msg_body,from_=phone_num_from,to=phone_num_to)"
   ]
  },
  {
   "cell_type": "code",
   "execution_count": 17,
   "metadata": {},
   "outputs": [
    {
     "data": {
      "text/plain": [
       "'delivered'"
      ]
     },
     "execution_count": 17,
     "metadata": {},
     "output_type": "execute_result"
    }
   ],
   "source": [
    "message.fetch().status"
   ]
  },
  {
   "cell_type": "code",
   "execution_count": 18,
   "metadata": {},
   "outputs": [],
   "source": [
    "weight_avg = float(1)"
   ]
  },
  {
   "cell_type": "code",
   "execution_count": 19,
   "metadata": {},
   "outputs": [
    {
     "data": {
      "text/plain": [
       "1.0"
      ]
     },
     "execution_count": 19,
     "metadata": {},
     "output_type": "execute_result"
    }
   ],
   "source": [
    "weight_avg"
   ]
  },
  {
   "cell_type": "code",
   "execution_count": 30,
   "metadata": {},
   "outputs": [],
   "source": [
    "def send_message(weight_avg):\n",
    "    global msg_empty_sent\n",
    "    global msg_low_sent\n",
    "    if ((weight_avg <= 0.01) & (msg_empty_sent==False)):\n",
    "        msg_body = 'CO2 is empty!'\n",
    "        message = client.messages.create(body=msg_body,from_=phone_num_from,to=phone_num_to)\n",
    "        time.sleep(30)\n",
    "        if message.fetch().status == 'delivered':\n",
    "            msg_empty_sent = True    \n",
    "    elif ((weight_avg < 0.5) & (msg_low_sent==False) & (msg_empty_sent==False)):\n",
    "        msg_body = 'CO2 is getting low!'\n",
    "        message = client.messages.create(body=msg_body,from_=phone_num_from,to=phone_num_to)\n",
    "        time.sleep(30)\n",
    "        if message.fetch().status == 'delivered':\n",
    "            msg_low_sent = True\n",
    "    elif weight_avg > 1:\n",
    "        msg_empty_sent = False\n",
    "        msg_low_sent = False\n",
    "    return"
   ]
  },
  {
   "cell_type": "code",
   "execution_count": 32,
   "metadata": {},
   "outputs": [
    {
     "ename": "KeyboardInterrupt",
     "evalue": "",
     "output_type": "error",
     "traceback": [
      "\u001b[0;31m---------------------------------------------------------------------------\u001b[0m",
      "\u001b[0;31mKeyboardInterrupt\u001b[0m                         Traceback (most recent call last)",
      "Input \u001b[0;32mIn [32]\u001b[0m, in \u001b[0;36m<cell line: 8>\u001b[0;34m()\u001b[0m\n\u001b[1;32m      7\u001b[0m \u001b[38;5;28;01mwhile\u001b[39;00m \u001b[38;5;28;01mTrue\u001b[39;00m:\n\u001b[1;32m      8\u001b[0m     send_message(weight_avg)\n\u001b[0;32m----> 9\u001b[0m     \u001b[43mtime\u001b[49m\u001b[38;5;241;43m.\u001b[39;49m\u001b[43msleep\u001b[49m\u001b[43m(\u001b[49m\u001b[38;5;241;43m3\u001b[39;49m\u001b[43m)\u001b[49m\n",
      "\u001b[0;31mKeyboardInterrupt\u001b[0m: "
     ]
    }
   ],
   "source": [
    "#msg_empty_sent = False\n",
    "#msg_low_sent = False\n",
    "\n",
    "\n",
    "weight_avg = float(3)\n",
    "\n",
    "while True:\n",
    "    send_message(weight_avg)\n",
    "    time.sleep(3)\n"
   ]
  },
  {
   "cell_type": "code",
   "execution_count": null,
   "metadata": {},
   "outputs": [],
   "source": []
  }
 ],
 "metadata": {
  "kernelspec": {
   "display_name": "Python 3 (ipykernel)",
   "language": "python",
   "name": "python3"
  },
  "language_info": {
   "codemirror_mode": {
    "name": "ipython",
    "version": 3
   },
   "file_extension": ".py",
   "mimetype": "text/x-python",
   "name": "python",
   "nbconvert_exporter": "python",
   "pygments_lexer": "ipython3",
   "version": "3.9.5"
  }
 },
 "nbformat": 4,
 "nbformat_minor": 4
}
